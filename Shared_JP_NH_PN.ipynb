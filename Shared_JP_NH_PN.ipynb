{
 "cells": [
  {
   "cell_type": "markdown",
   "id": "3001c2af",
   "metadata": {},
   "source": [
    "# Goals and Objectives"
   ]
  },
  {
   "cell_type": "markdown",
   "id": "03527531",
   "metadata": {},
   "source": [
    "- Highly desired skills for data scientist"
   ]
  },
  {
   "cell_type": "markdown",
   "id": "0d8f8c11",
   "metadata": {},
   "source": [
    "# Tasks and TimeFrame"
   ]
  },
  {
   "cell_type": "markdown",
   "id": "650c2709",
   "metadata": {},
   "source": [
    "## Explore Data"
   ]
  },
  {
   "cell_type": "markdown",
   "id": "7ec75f8b",
   "metadata": {},
   "source": []
  },
  {
   "cell_type": "markdown",
   "id": "d75d59cc",
   "metadata": {},
   "source": [
    "## Clean Data"
   ]
  },
  {
   "cell_type": "markdown",
   "id": "13ab4bc6",
   "metadata": {},
   "source": [
    "- Nick leading data cleaning\n",
    "- Drop renenue, competitors\n",
    "- Need job titles and descriptions\n",
    "- Classify level by salary, normalised by area\n",
    "\n",
    "Finished by 24/5 mid-day"
   ]
  },
  {
   "cell_type": "markdown",
   "id": "c4285288",
   "metadata": {},
   "source": [
    "- lowercase\n",
    "- punctuation\n",
    "- stop words\n",
    "- tokenizing"
   ]
  },
  {
   "cell_type": "markdown",
   "id": "5e030a46",
   "metadata": {},
   "source": [
    "## Creating train and test sets"
   ]
  },
  {
   "cell_type": "markdown",
   "id": "ec7da69f",
   "metadata": {},
   "source": [
    "# Modelling"
   ]
  },
  {
   "cell_type": "markdown",
   "id": "03d993f7",
   "metadata": {},
   "source": [
    "- One model (one method of modelling) per person, spend time to best optimise the model\n",
    "\n",
    "- Learning curves to track\n",
    "\n",
    "- Compare results\n",
    "\n",
    "- Preliminary results by this Wednesday ? for comments and inputs from TAs\n",
    "\n"
   ]
  },
  {
   "cell_type": "markdown",
   "id": "54d2e3af",
   "metadata": {},
   "source": [
    "# Production"
   ]
  },
  {
   "cell_type": "markdown",
   "id": "f6eb908a",
   "metadata": {},
   "source": [
    "- Anyone???\n",
    "- How much time would be enough?? 2 days?"
   ]
  },
  {
   "cell_type": "markdown",
   "id": "f5365063",
   "metadata": {},
   "source": [
    "# Final Product"
   ]
  },
  {
   "cell_type": "markdown",
   "id": "6d14fd63",
   "metadata": {},
   "source": [
    "used provided inputs: details about themselves\n",
    "- drop down\n",
    "- written input\n",
    "- input of experience \n",
    "- input field/ industry\n",
    "- \n",
    "\n",
    "outputs:\n",
    "- key skills\n",
    "- qualifications\n",
    "\n",
    "potentials \n",
    "- model update for more accurate outcomes \n",
    "-\n"
   ]
  }
 ],
 "metadata": {
  "kernelspec": {
   "display_name": "Python 3 (ipykernel)",
   "language": "python",
   "name": "python3"
  },
  "language_info": {
   "codemirror_mode": {
    "name": "ipython",
    "version": 3
   },
   "file_extension": ".py",
   "mimetype": "text/x-python",
   "name": "python",
   "nbconvert_exporter": "python",
   "pygments_lexer": "ipython3",
   "version": "3.8.12"
  },
  "toc": {
   "base_numbering": 1,
   "nav_menu": {},
   "number_sections": true,
   "sideBar": true,
   "skip_h1_title": false,
   "title_cell": "Table of Contents",
   "title_sidebar": "Contents",
   "toc_cell": false,
   "toc_position": {},
   "toc_section_display": true,
   "toc_window_display": false
  }
 },
 "nbformat": 4,
 "nbformat_minor": 5
}
